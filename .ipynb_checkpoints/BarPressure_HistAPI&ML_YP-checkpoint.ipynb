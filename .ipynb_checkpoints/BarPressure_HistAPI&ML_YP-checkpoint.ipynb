{
 "cells": [
  {
   "cell_type": "code",
   "execution_count": 1,
   "metadata": {},
   "outputs": [],
   "source": [
    "import json\n",
    "import requests\n",
    "from config import lw_key\n",
    "import pandas as pd\n",
    "from datetime import date, timedelta, datetime\n",
    "from sklearn.svm import SVC \n",
    "from sklearn.model_selection import GridSearchCV\n",
    "from sklearn.preprocessing import MinMaxScaler\n",
    "from sklearn.preprocessing import StandardScaler\n",
    "from sklearn.model_selection import train_test_split"
   ]
  },
  {
   "cell_type": "code",
   "execution_count": 2,
   "metadata": {},
   "outputs": [],
   "source": [
    "url= \"https://api.worldweatheronline.com/premium/v1/weather.ashx?\"\n",
    "past_url = \"https://api.worldweatheronline.com/premium/v1/past-weather.ashx?\"\n",
    "# query_url =f\"{url}appid={api_key}&zip=\""
   ]
  },
  {
   "cell_type": "code",
   "execution_count": 3,
   "metadata": {},
   "outputs": [
    {
     "name": "stdout",
     "output_type": "stream",
     "text": [
      "Enter 5-digit Zipcode:21061\n"
     ]
    }
   ],
   "source": [
    "zipcode = input(\"Enter 5-digit Zipcode:\")"
   ]
  },
  {
   "cell_type": "code",
   "execution_count": 4,
   "metadata": {},
   "outputs": [],
   "source": [
    "# zip_df = nomi.query_postal_code(zipcode)\n"
   ]
  },
  {
   "cell_type": "code",
   "execution_count": 5,
   "metadata": {},
   "outputs": [],
   "source": [
    "# pandas apply pgeocode to ZIPCODE1\n",
    "# md_zips = df['ZIPCODE1'].apply(nomi.query_postal_code)\n",
    "# md_zips.head()"
   ]
  },
  {
   "cell_type": "code",
   "execution_count": 6,
   "metadata": {},
   "outputs": [],
   "source": [
    "response = requests.get(f\"{url}key={lw_key}&q={zipcode}&num_of_days=8&tp=24&cc=no&mca=no&aqi=yes&format=json\").json()\n",
    "response = response['data']\n"
   ]
  },
  {
   "cell_type": "code",
   "execution_count": 7,
   "metadata": {},
   "outputs": [
    {
     "data": {
      "text/html": [
       "<div>\n",
       "<style scoped>\n",
       "    .dataframe tbody tr th:only-of-type {\n",
       "        vertical-align: middle;\n",
       "    }\n",
       "\n",
       "    .dataframe tbody tr th {\n",
       "        vertical-align: top;\n",
       "    }\n",
       "\n",
       "    .dataframe thead th {\n",
       "        text-align: right;\n",
       "    }\n",
       "</style>\n",
       "<table border=\"1\" class=\"dataframe\">\n",
       "  <thead>\n",
       "    <tr style=\"text-align: right;\">\n",
       "      <th></th>\n",
       "      <th>Dates</th>\n",
       "      <th>Cloudcover</th>\n",
       "      <th>Humidity</th>\n",
       "      <th>PrecipInch</th>\n",
       "      <th>Pressure</th>\n",
       "      <th>FeelsLike</th>\n",
       "      <th>HeatIndex</th>\n",
       "      <th>MaxTemp</th>\n",
       "      <th>MinTemp</th>\n",
       "      <th>SunHours</th>\n",
       "      <th>UVIndex</th>\n",
       "      <th>TempDelta</th>\n",
       "      <th>BarChange</th>\n",
       "      <th>HeatChange</th>\n",
       "      <th>HumChange</th>\n",
       "    </tr>\n",
       "  </thead>\n",
       "  <tbody>\n",
       "    <tr>\n",
       "      <th>1</th>\n",
       "      <td>2021-04-16</td>\n",
       "      <td>68</td>\n",
       "      <td>62</td>\n",
       "      <td>0.0</td>\n",
       "      <td>1009</td>\n",
       "      <td>42</td>\n",
       "      <td>48</td>\n",
       "      <td>53</td>\n",
       "      <td>43</td>\n",
       "      <td>7.8</td>\n",
       "      <td>3</td>\n",
       "      <td>10</td>\n",
       "      <td>0.000992</td>\n",
       "      <td>-0.127273</td>\n",
       "      <td>-0.088235</td>\n",
       "    </tr>\n",
       "    <tr>\n",
       "      <th>2</th>\n",
       "      <td>2021-04-17</td>\n",
       "      <td>78</td>\n",
       "      <td>64</td>\n",
       "      <td>0.0</td>\n",
       "      <td>1011</td>\n",
       "      <td>47</td>\n",
       "      <td>50</td>\n",
       "      <td>54</td>\n",
       "      <td>46</td>\n",
       "      <td>9.1</td>\n",
       "      <td>2</td>\n",
       "      <td>8</td>\n",
       "      <td>0.001982</td>\n",
       "      <td>0.041667</td>\n",
       "      <td>0.032258</td>\n",
       "    </tr>\n",
       "    <tr>\n",
       "      <th>3</th>\n",
       "      <td>2021-04-18</td>\n",
       "      <td>48</td>\n",
       "      <td>61</td>\n",
       "      <td>0.0</td>\n",
       "      <td>1013</td>\n",
       "      <td>49</td>\n",
       "      <td>51</td>\n",
       "      <td>56</td>\n",
       "      <td>47</td>\n",
       "      <td>9.1</td>\n",
       "      <td>4</td>\n",
       "      <td>9</td>\n",
       "      <td>0.001978</td>\n",
       "      <td>0.020000</td>\n",
       "      <td>-0.046875</td>\n",
       "    </tr>\n",
       "    <tr>\n",
       "      <th>4</th>\n",
       "      <td>2021-04-19</td>\n",
       "      <td>47</td>\n",
       "      <td>59</td>\n",
       "      <td>0.0</td>\n",
       "      <td>1015</td>\n",
       "      <td>52</td>\n",
       "      <td>53</td>\n",
       "      <td>60</td>\n",
       "      <td>44</td>\n",
       "      <td>10.4</td>\n",
       "      <td>1</td>\n",
       "      <td>16</td>\n",
       "      <td>0.001974</td>\n",
       "      <td>0.039216</td>\n",
       "      <td>-0.032787</td>\n",
       "    </tr>\n",
       "    <tr>\n",
       "      <th>5</th>\n",
       "      <td>2021-04-20</td>\n",
       "      <td>18</td>\n",
       "      <td>60</td>\n",
       "      <td>0.0</td>\n",
       "      <td>1017</td>\n",
       "      <td>56</td>\n",
       "      <td>57</td>\n",
       "      <td>66</td>\n",
       "      <td>49</td>\n",
       "      <td>11.6</td>\n",
       "      <td>4</td>\n",
       "      <td>17</td>\n",
       "      <td>0.001970</td>\n",
       "      <td>0.075472</td>\n",
       "      <td>0.016949</td>\n",
       "    </tr>\n",
       "    <tr>\n",
       "      <th>6</th>\n",
       "      <td>2021-04-21</td>\n",
       "      <td>23</td>\n",
       "      <td>56</td>\n",
       "      <td>0.0</td>\n",
       "      <td>1015</td>\n",
       "      <td>51</td>\n",
       "      <td>54</td>\n",
       "      <td>58</td>\n",
       "      <td>49</td>\n",
       "      <td>10.4</td>\n",
       "      <td>4</td>\n",
       "      <td>9</td>\n",
       "      <td>-0.001967</td>\n",
       "      <td>-0.052632</td>\n",
       "      <td>-0.066667</td>\n",
       "    </tr>\n",
       "    <tr>\n",
       "      <th>7</th>\n",
       "      <td>2021-04-22</td>\n",
       "      <td>11</td>\n",
       "      <td>47</td>\n",
       "      <td>0.0</td>\n",
       "      <td>1022</td>\n",
       "      <td>46</td>\n",
       "      <td>50</td>\n",
       "      <td>56</td>\n",
       "      <td>43</td>\n",
       "      <td>11.6</td>\n",
       "      <td>3</td>\n",
       "      <td>13</td>\n",
       "      <td>0.006897</td>\n",
       "      <td>-0.074074</td>\n",
       "      <td>-0.160714</td>\n",
       "    </tr>\n",
       "  </tbody>\n",
       "</table>\n",
       "</div>"
      ],
      "text/plain": [
       "        Dates  Cloudcover  Humidity  PrecipInch  Pressure  FeelsLike  \\\n",
       "1  2021-04-16          68        62         0.0      1009         42   \n",
       "2  2021-04-17          78        64         0.0      1011         47   \n",
       "3  2021-04-18          48        61         0.0      1013         49   \n",
       "4  2021-04-19          47        59         0.0      1015         52   \n",
       "5  2021-04-20          18        60         0.0      1017         56   \n",
       "6  2021-04-21          23        56         0.0      1015         51   \n",
       "7  2021-04-22          11        47         0.0      1022         46   \n",
       "\n",
       "   HeatIndex  MaxTemp  MinTemp  SunHours  UVIndex  TempDelta  BarChange  \\\n",
       "1         48       53       43       7.8        3         10   0.000992   \n",
       "2         50       54       46       9.1        2          8   0.001982   \n",
       "3         51       56       47       9.1        4          9   0.001978   \n",
       "4         53       60       44      10.4        1         16   0.001974   \n",
       "5         57       66       49      11.6        4         17   0.001970   \n",
       "6         54       58       49      10.4        4          9  -0.001967   \n",
       "7         50       56       43      11.6        3         13   0.006897   \n",
       "\n",
       "   HeatChange  HumChange  \n",
       "1   -0.127273  -0.088235  \n",
       "2    0.041667   0.032258  \n",
       "3    0.020000  -0.046875  \n",
       "4    0.039216  -0.032787  \n",
       "5    0.075472   0.016949  \n",
       "6   -0.052632  -0.066667  \n",
       "7   -0.074074  -0.160714  "
      ]
     },
     "execution_count": 7,
     "metadata": {},
     "output_type": "execute_result"
    }
   ],
   "source": [
    "weather_dict ={\n",
    "    \"Dates\":[],\n",
    "    \"Cloudcover\":[],\n",
    "    \"Humidity\":[],\n",
    "    \"PrecipInch\":[],\n",
    "    \"Pressure\":[],\n",
    "    \"FeelsLike\":[],\n",
    "    \"HeatIndex\":[],\n",
    "    \"MaxTemp\":[],\n",
    "    \"MinTemp\":[],\n",
    "    \"SunHours\":[],\n",
    "    \"UVIndex\":[],\n",
    "}\n",
    "\n",
    "weather_dict[\"Dates\"]= ([response[\"weather\"][i][\"date\"] for i in range(len(response[\"weather\"]))])\n",
    "weather_dict[\"Cloudcover\"]=([response[\"weather\"][i][\"hourly\"][0][\"cloudcover\"] for i in range(len(response[\"weather\"]))])\n",
    "weather_dict[\"Humidity\"]= ([response[\"weather\"][i][\"hourly\"][0][\"humidity\"] for i in range(len(response[\"weather\"]))])\n",
    "weather_dict[\"PrecipInch\"]= ([response[\"weather\"][i][\"hourly\"][0][\"precipInches\"] for i in range(len(response[\"weather\"]))])\n",
    "weather_dict[\"Pressure\"]= ([response[\"weather\"][i][\"hourly\"][0][\"pressure\"] for i in range(len(response[\"weather\"]))])\n",
    "weather_dict[\"FeelsLike\"]= ([response[\"weather\"][i][\"hourly\"][0][\"FeelsLikeF\"] for i in range(len(response[\"weather\"]))])\n",
    "weather_dict[\"HeatIndex\"]= ([response[\"weather\"][i][\"hourly\"][0][\"HeatIndexF\"] for i in range(len(response[\"weather\"]))])\n",
    "weather_dict[\"MaxTemp\"]= ([response[\"weather\"][i][\"maxtempF\"] for i in range(len(response[\"weather\"]))])\n",
    "weather_dict[\"MinTemp\"]=([response[\"weather\"][i][\"mintempF\"] for i in range(len(response[\"weather\"]))])\n",
    "weather_dict[\"SunHours\"]=([response[\"weather\"][i][\"sunHour\"] for i in range(len(response[\"weather\"]))])\n",
    "weather_dict[\"UVIndex\"]= ([response[\"weather\"][i][\"hourly\"][0][\"uvIndex\"] for i in range(len(response[\"weather\"]))])\n",
    "weather_df= pd.DataFrame.from_dict(weather_dict,orient='index').transpose()\n",
    "weather_df= weather_df.apply(pd.to_numeric, errors= 'ignore')\n",
    "weather_df[\"TempDelta\"] = weather_df.MaxTemp - weather_df.MinTemp\n",
    "weather_df[\"BarChange\"] =weather_df[\"Pressure\"].pct_change()\n",
    "weather_df[\"HeatChange\"] =weather_df[\"HeatIndex\"].pct_change()\n",
    "weather_df[\"HumChange\"] =weather_df[\"Humidity\"].pct_change()\n",
    "weather_df= weather_df.iloc[1:]\n",
    "weather_df.head(10)\n"
   ]
  },
  {
   "cell_type": "code",
   "execution_count": 8,
   "metadata": {},
   "outputs": [
    {
     "name": "stdout",
     "output_type": "stream",
     "text": [
      "Dates you had a migraine (YYYY-MM-DD):2021-04-15\n"
     ]
    }
   ],
   "source": [
    "dates= input(\"Dates you had a migraine (YYYY-MM-DD):\")"
   ]
  },
  {
   "cell_type": "code",
   "execution_count": 9,
   "metadata": {},
   "outputs": [],
   "source": [
    "dates=dates.split(\",\")\n",
    "dates= [i.strip() for i in dates]"
   ]
  },
  {
   "cell_type": "code",
   "execution_count": 10,
   "metadata": {},
   "outputs": [
    {
     "name": "stdout",
     "output_type": "stream",
     "text": [
      "2021-04-14\n"
     ]
    }
   ],
   "source": [
    "for date in dates:\n",
    "    enddate= ((datetime.strptime(date, '%Y-%m-%d')- timedelta(days=1)).strftime(\"%Y-%m-%d\"))\n",
    "    enddate.strip()\n",
    "    print(enddate)"
   ]
  },
  {
   "cell_type": "code",
   "execution_count": 11,
   "metadata": {},
   "outputs": [],
   "source": [
    "history_dict ={\n",
    "    \"Dates\":[],\n",
    "    \"Cloudcover\":[],\n",
    "    \"Humidity\":[],\n",
    "    \"PrecipInch\":[],\n",
    "    \"Pressure\":[],\n",
    "    \"FeelsLike\":[],\n",
    "    \"HeatIndex\":[],\n",
    "    \"MaxTemp\":[],\n",
    "    \"MinTemp\":[],\n",
    "    \"SunHours\":[],\n",
    "    \"UVIndex\":[],\n",
    "    }"
   ]
  },
  {
   "cell_type": "code",
   "execution_count": 12,
   "metadata": {},
   "outputs": [],
   "source": [
    "for date in dates:\n",
    "    enddate = (datetime.strptime(date, '%Y-%m-%d')- timedelta(days=1)).strftime(\"%Y-%m-%d\")\n",
    "    responses = requests.get(f\"{past_url}key={lw_key}&q={zipcode}&date={enddate}&enddate={date}&tp=24&mca=no&aqi=yes&format=json\").json()\n",
    "    responses = responses['data']\n",
    "\n",
    "\n",
    "    history_dict[\"Dates\"].append([responses[\"weather\"][i][\"date\"] for i in range(len(responses[\"weather\"]))])\n",
    "    history_dict[\"Cloudcover\"].append([responses[\"weather\"][i][\"hourly\"][0][\"cloudcover\"] for i in range(len(responses[\"weather\"]))])\n",
    "    history_dict[\"Humidity\"].append([responses[\"weather\"][i][\"hourly\"][0][\"humidity\"] for i in range(len(responses[\"weather\"]))])\n",
    "    history_dict[\"PrecipInch\"].append([responses[\"weather\"][i][\"hourly\"][0][\"precipInches\"] for i in range(len(responses[\"weather\"]))])\n",
    "    history_dict[\"Pressure\"].append([responses[\"weather\"][i][\"hourly\"][0][\"pressure\"] for i in range(len(responses[\"weather\"]))])\n",
    "    history_dict[\"FeelsLike\"].append([responses[\"weather\"][i][\"hourly\"][0][\"FeelsLikeF\"] for i in range(len(responses[\"weather\"]))])\n",
    "    history_dict[\"HeatIndex\"].append([responses[\"weather\"][i][\"hourly\"][0][\"HeatIndexF\"] for i in range(len(responses[\"weather\"]))])\n",
    "    history_dict[\"MaxTemp\"].append([responses[\"weather\"][i][\"maxtempF\"] for i in range(len(responses[\"weather\"]))])\n",
    "    history_dict[\"MinTemp\"].append([responses[\"weather\"][i][\"mintempF\"] for i in range(len(responses[\"weather\"]))])\n",
    "    history_dict[\"SunHours\"].append([responses[\"weather\"][i][\"sunHour\"] for i in range(len(responses[\"weather\"]))])\n",
    "    history_dict[\"UVIndex\"].append([responses[\"weather\"][i][\"hourly\"][0][\"uvIndex\"] for i in range(len(responses[\"weather\"]))])\n",
    "\n"
   ]
  },
  {
   "cell_type": "code",
   "execution_count": 13,
   "metadata": {},
   "outputs": [],
   "source": [
    "history_df= pd.DataFrame.from_dict(history_dict,orient='index').transpose()\n",
    "history_df= history_df.apply(pd.to_numeric, errors= 'ignore')\n"
   ]
  },
  {
   "cell_type": "code",
   "execution_count": 14,
   "metadata": {},
   "outputs": [
    {
     "data": {
      "text/html": [
       "<div>\n",
       "<style scoped>\n",
       "    .dataframe tbody tr th:only-of-type {\n",
       "        vertical-align: middle;\n",
       "    }\n",
       "\n",
       "    .dataframe tbody tr th {\n",
       "        vertical-align: top;\n",
       "    }\n",
       "\n",
       "    .dataframe thead th {\n",
       "        text-align: right;\n",
       "    }\n",
       "</style>\n",
       "<table border=\"1\" class=\"dataframe\">\n",
       "  <thead>\n",
       "    <tr style=\"text-align: right;\">\n",
       "      <th></th>\n",
       "      <th>Dates</th>\n",
       "      <th>Cloudcover</th>\n",
       "      <th>Humidity</th>\n",
       "      <th>PrecipInch</th>\n",
       "      <th>Pressure</th>\n",
       "      <th>FeelsLike</th>\n",
       "      <th>HeatIndex</th>\n",
       "      <th>MaxTemp</th>\n",
       "      <th>MinTemp</th>\n",
       "      <th>SunHours</th>\n",
       "      <th>UVIndex</th>\n",
       "    </tr>\n",
       "  </thead>\n",
       "  <tbody>\n",
       "    <tr>\n",
       "      <th>0</th>\n",
       "      <td>2021-04-14</td>\n",
       "      <td>70</td>\n",
       "      <td>88</td>\n",
       "      <td>0.3</td>\n",
       "      <td>1016</td>\n",
       "      <td>51</td>\n",
       "      <td>52</td>\n",
       "      <td>54</td>\n",
       "      <td>50</td>\n",
       "      <td>6.6</td>\n",
       "      <td>3</td>\n",
       "    </tr>\n",
       "    <tr>\n",
       "      <th>1</th>\n",
       "      <td>2021-04-15</td>\n",
       "      <td>70</td>\n",
       "      <td>73</td>\n",
       "      <td>0.2</td>\n",
       "      <td>1008</td>\n",
       "      <td>53</td>\n",
       "      <td>54</td>\n",
       "      <td>60</td>\n",
       "      <td>50</td>\n",
       "      <td>7.8</td>\n",
       "      <td>3</td>\n",
       "    </tr>\n",
       "  </tbody>\n",
       "</table>\n",
       "</div>"
      ],
      "text/plain": [
       "        Dates  Cloudcover  Humidity  PrecipInch  Pressure  FeelsLike  \\\n",
       "0  2021-04-14          70        88         0.3      1016         51   \n",
       "1  2021-04-15          70        73         0.2      1008         53   \n",
       "\n",
       "   HeatIndex  MaxTemp  MinTemp  SunHours  UVIndex  \n",
       "0         52       54       50       6.6        3  \n",
       "1         54       60       50       7.8        3  "
      ]
     },
     "execution_count": 14,
     "metadata": {},
     "output_type": "execute_result"
    }
   ],
   "source": [
    "history_df= history_df.apply(pd.Series.explode).reset_index(drop=True)\n",
    "history_df= history_df.apply(pd.to_numeric, errors= 'ignore')\n",
    "history_df.reset_index(drop=True)\n",
    "history_df.head(10)"
   ]
  },
  {
   "cell_type": "code",
   "execution_count": 15,
   "metadata": {
    "scrolled": true
   },
   "outputs": [
    {
     "data": {
      "text/html": [
       "<div>\n",
       "<style scoped>\n",
       "    .dataframe tbody tr th:only-of-type {\n",
       "        vertical-align: middle;\n",
       "    }\n",
       "\n",
       "    .dataframe tbody tr th {\n",
       "        vertical-align: top;\n",
       "    }\n",
       "\n",
       "    .dataframe thead th {\n",
       "        text-align: right;\n",
       "    }\n",
       "</style>\n",
       "<table border=\"1\" class=\"dataframe\">\n",
       "  <thead>\n",
       "    <tr style=\"text-align: right;\">\n",
       "      <th></th>\n",
       "      <th>Dates</th>\n",
       "      <th>Cloudcover</th>\n",
       "      <th>Humidity</th>\n",
       "      <th>PrecipInch</th>\n",
       "      <th>Pressure</th>\n",
       "      <th>FeelsLike</th>\n",
       "      <th>HeatIndex</th>\n",
       "      <th>MaxTemp</th>\n",
       "      <th>MinTemp</th>\n",
       "      <th>SunHours</th>\n",
       "      <th>UVIndex</th>\n",
       "      <th>TempDelta</th>\n",
       "      <th>BarChange</th>\n",
       "      <th>HeatChange</th>\n",
       "      <th>HumChange</th>\n",
       "    </tr>\n",
       "  </thead>\n",
       "  <tbody>\n",
       "    <tr>\n",
       "      <th>1</th>\n",
       "      <td>2021-04-15</td>\n",
       "      <td>70</td>\n",
       "      <td>73</td>\n",
       "      <td>0.2</td>\n",
       "      <td>1008</td>\n",
       "      <td>53</td>\n",
       "      <td>54</td>\n",
       "      <td>60</td>\n",
       "      <td>50</td>\n",
       "      <td>7.8</td>\n",
       "      <td>3</td>\n",
       "      <td>17.0</td>\n",
       "      <td>-0.007874</td>\n",
       "      <td>0.038462</td>\n",
       "      <td>-0.170455</td>\n",
       "    </tr>\n",
       "  </tbody>\n",
       "</table>\n",
       "</div>"
      ],
      "text/plain": [
       "        Dates  Cloudcover  Humidity  PrecipInch  Pressure  FeelsLike  \\\n",
       "1  2021-04-15          70        73         0.2      1008         53   \n",
       "\n",
       "   HeatIndex  MaxTemp  MinTemp  SunHours  UVIndex  TempDelta  BarChange  \\\n",
       "1         54       60       50       7.8        3       17.0  -0.007874   \n",
       "\n",
       "   HeatChange  HumChange  \n",
       "1    0.038462  -0.170455  "
      ]
     },
     "execution_count": 15,
     "metadata": {},
     "output_type": "execute_result"
    }
   ],
   "source": [
    "history_df[\"TempDelta\"] = history_df.MaxTemp - weather_df.MinTemp\n",
    "history_df[\"BarChange\"] =history_df[\"Pressure\"].pct_change()\n",
    "history_df[\"HeatChange\"] =history_df[\"HeatIndex\"].pct_change()\n",
    "history_df[\"HumChange\"] =history_df[\"Humidity\"].pct_change()\n",
    "history_df= history_df.iloc[1::2]\n",
    "history_df.head(10)"
   ]
  },
  {
   "cell_type": "code",
   "execution_count": 17,
   "metadata": {},
   "outputs": [
    {
     "data": {
      "text/html": [
       "<div>\n",
       "<style scoped>\n",
       "    .dataframe tbody tr th:only-of-type {\n",
       "        vertical-align: middle;\n",
       "    }\n",
       "\n",
       "    .dataframe tbody tr th {\n",
       "        vertical-align: top;\n",
       "    }\n",
       "\n",
       "    .dataframe thead th {\n",
       "        text-align: right;\n",
       "    }\n",
       "</style>\n",
       "<table border=\"1\" class=\"dataframe\">\n",
       "  <thead>\n",
       "    <tr style=\"text-align: right;\">\n",
       "      <th></th>\n",
       "      <th>Dates</th>\n",
       "      <th>Cloudcover</th>\n",
       "      <th>Humidity</th>\n",
       "      <th>PrecipInch</th>\n",
       "      <th>Pressure</th>\n",
       "      <th>FeelsLike</th>\n",
       "      <th>HeatIndex</th>\n",
       "      <th>MaxTemp</th>\n",
       "      <th>MinTemp</th>\n",
       "      <th>SunHours</th>\n",
       "      <th>UVIndex</th>\n",
       "      <th>TempDelta</th>\n",
       "      <th>BarChange</th>\n",
       "      <th>HeatChange</th>\n",
       "      <th>HumChange</th>\n",
       "    </tr>\n",
       "  </thead>\n",
       "  <tbody>\n",
       "    <tr>\n",
       "      <th>1</th>\n",
       "      <td>2021-04-15</td>\n",
       "      <td>70</td>\n",
       "      <td>73</td>\n",
       "      <td>0.2</td>\n",
       "      <td>1008</td>\n",
       "      <td>53</td>\n",
       "      <td>54</td>\n",
       "      <td>60</td>\n",
       "      <td>50</td>\n",
       "      <td>7.8</td>\n",
       "      <td>3</td>\n",
       "      <td>17.0</td>\n",
       "      <td>-0.007874</td>\n",
       "      <td>0.038462</td>\n",
       "      <td>-0.170455</td>\n",
       "    </tr>\n",
       "  </tbody>\n",
       "</table>\n",
       "</div>"
      ],
      "text/plain": [
       "        Dates  Cloudcover  Humidity  PrecipInch  Pressure  FeelsLike  \\\n",
       "1  2021-04-15          70        73         0.2      1008         53   \n",
       "\n",
       "   HeatIndex  MaxTemp  MinTemp  SunHours  UVIndex  TempDelta  BarChange  \\\n",
       "1         54       60       50       7.8        3       17.0  -0.007874   \n",
       "\n",
       "   HeatChange  HumChange  \n",
       "1    0.038462  -0.170455  "
      ]
     },
     "execution_count": 17,
     "metadata": {},
     "output_type": "execute_result"
    }
   ],
   "source": [
    "ml_hist_df = history_df\n",
    "ml_hist_df"
   ]
  },
  {
   "cell_type": "markdown",
   "metadata": {},
   "source": [
    "# Machine Learning"
   ]
  },
  {
   "cell_type": "code",
   "execution_count": null,
   "metadata": {},
   "outputs": [],
   "source": [
    "risk_data= []\n",
    "for i in ml_hist_df[\"BarChange\"]:\n",
    "    if i <=5:\n",
    "       risk_data.append(\"1\")\n",
    "    elif i>5 & i<8:\n",
    "        risk_data.append(\"2\")\n",
    "    else: \n",
    "        risk_data.append(\"3\")\n",
    "risk_data          \n",
    "            "
   ]
  },
  {
   "cell_type": "code",
   "execution_count": null,
   "metadata": {},
   "outputs": [],
   "source": [
    "ml_hist_df[\"MigraineRisk\"] = risk_data\n"
   ]
  },
  {
   "cell_type": "code",
   "execution_count": null,
   "metadata": {},
   "outputs": [],
   "source": [
    "ml_hist_df=ml_hist_df.drop(columns =[\"Dates\"])\n",
    "ml_hist_df"
   ]
  },
  {
   "cell_type": "code",
   "execution_count": null,
   "metadata": {},
   "outputs": [],
   "source": [
    "# Assign X (data) and y (target)\n",
    "X = ml_hist_df.drop(\"MigraineRisk\", axis=1)\n",
    "y = ml_hist_df[\"MigraineRisk\"]\n",
    "print(X.shape, y.shape)"
   ]
  },
  {
   "cell_type": "code",
   "execution_count": null,
   "metadata": {},
   "outputs": [],
   "source": [
    "#Split our data into training and testing\n",
    "X_train, X_test, y_train, y_test = train_test_split(X, y, random_state=42)"
   ]
  },
  {
   "cell_type": "code",
   "execution_count": null,
   "metadata": {},
   "outputs": [],
   "source": [
    "#Fit on the training data\n",
    "X_scaler = MinMaxScaler().fit(X_train)\n",
    "X_scaler.get_params()"
   ]
  },
  {
   "cell_type": "code",
   "execution_count": null,
   "metadata": {},
   "outputs": [],
   "source": [
    "X_train_scaled = X_scaler.transform(X_train)\n",
    "X_test_scaled = X_scaler.transform(X_test)\n",
    "X_test_scaled"
   ]
  },
  {
   "cell_type": "code",
   "execution_count": null,
   "metadata": {},
   "outputs": [],
   "source": [
    "y_train.value_counts()"
   ]
  },
  {
   "cell_type": "code",
   "execution_count": null,
   "metadata": {},
   "outputs": [],
   "source": [
    "y_test.value_counts()"
   ]
  },
  {
   "cell_type": "code",
   "execution_count": null,
   "metadata": {},
   "outputs": [],
   "source": [
    "model = SVC(kernel=\"linear\")\n",
    "model"
   ]
  },
  {
   "cell_type": "markdown",
   "metadata": {},
   "source": [
    "# w/o Grid Search"
   ]
  },
  {
   "cell_type": "code",
   "execution_count": null,
   "metadata": {},
   "outputs": [],
   "source": [
    "model.fit(X_train, y_train)"
   ]
  },
  {
   "cell_type": "code",
   "execution_count": null,
   "metadata": {},
   "outputs": [],
   "source": [
    "print('Test Acc: %.3f' % model.score(X_test, y_test))"
   ]
  },
  {
   "cell_type": "code",
   "execution_count": null,
   "metadata": {},
   "outputs": [],
   "source": [
    "# Calculate classification report\n",
    "from sklearn.metrics import classification_report\n",
    "predictions = model.predict(X_test)\n",
    "print(classification_report(y_test, predictions,\n",
    "                            target_names=[\"1\",\"2\",\"3\"]))"
   ]
  },
  {
   "cell_type": "code",
   "execution_count": null,
   "metadata": {},
   "outputs": [],
   "source": [
    "print('Test Acc: %.3f' % model.score(X_test, y_test))"
   ]
  },
  {
   "cell_type": "code",
   "execution_count": null,
   "metadata": {},
   "outputs": [],
   "source": [
    "# Calculate classification report\n",
    "from sklearn.metrics import classification_report\n",
    "predictions = model.predict(X_test)\n",
    "print(classification_report(y_test, predictions,\n",
    "                            target_names=[\"1\", \"2\", \"3\"]))"
   ]
  },
  {
   "cell_type": "markdown",
   "metadata": {},
   "source": [
    "# Grid Search"
   ]
  },
  {
   "cell_type": "code",
   "execution_count": 1,
   "metadata": {},
   "outputs": [
    {
     "ename": "NameError",
     "evalue": "name 'GridSearchCV' is not defined",
     "output_type": "error",
     "traceback": [
      "\u001b[1;31m---------------------------------------------------------------------------\u001b[0m",
      "\u001b[1;31mNameError\u001b[0m                                 Traceback (most recent call last)",
      "\u001b[1;32m<ipython-input-1-44c3095e575f>\u001b[0m in \u001b[0;36m<module>\u001b[1;34m\u001b[0m\n\u001b[0;32m      2\u001b[0m param_grid = {'C': [1, 5, 10, 50],\n\u001b[0;32m      3\u001b[0m               'gamma': [0.0001, 0.0005, 0.001, 0.005]}\n\u001b[1;32m----> 4\u001b[1;33m \u001b[0mgrid\u001b[0m \u001b[1;33m=\u001b[0m \u001b[0mGridSearchCV\u001b[0m\u001b[1;33m(\u001b[0m\u001b[0mmodel\u001b[0m\u001b[1;33m,\u001b[0m \u001b[0mparam_grid\u001b[0m\u001b[1;33m,\u001b[0m \u001b[0mverbose\u001b[0m\u001b[1;33m=\u001b[0m\u001b[1;36m3\u001b[0m\u001b[1;33m)\u001b[0m\u001b[1;33m\u001b[0m\u001b[1;33m\u001b[0m\u001b[0m\n\u001b[0m",
      "\u001b[1;31mNameError\u001b[0m: name 'GridSearchCV' is not defined"
     ]
    }
   ],
   "source": [
    "# Create the GridSearch estimator along with a parameter object containing the values to adjust\n",
    "param_grid = {'C': [1, 5, 10, 50],\n",
    "              'gamma': [0.0001, 0.0005, 0.001, 0.005]}\n",
    "grid = GridSearchCV(model, param_grid, verbose=3)"
   ]
  },
  {
   "cell_type": "code",
   "execution_count": null,
   "metadata": {},
   "outputs": [],
   "source": [
    "# Fit the model using the grid search estimator. \n",
    "# This will take the SVC model and try each combination of parameters\n",
    "grid.fit(X_train_scaled, y_train)"
   ]
  },
  {
   "cell_type": "code",
   "execution_count": null,
   "metadata": {},
   "outputs": [],
   "source": [
    "# List the best parameters for this dataset\n",
    "print(grid.best_params_)"
   ]
  },
  {
   "cell_type": "code",
   "execution_count": null,
   "metadata": {},
   "outputs": [],
   "source": [
    "# List the best score\n",
    "print(grid.best_score_)"
   ]
  },
  {
   "cell_type": "code",
   "execution_count": null,
   "metadata": {},
   "outputs": [],
   "source": [
    "# Make predictions with the hypertuned model\n",
    "predictions = grid.predict(X_test)"
   ]
  },
  {
   "cell_type": "code",
   "execution_count": null,
   "metadata": {},
   "outputs": [],
   "source": [
    "print('Test Acc: %.3f' % grid.score(X_test, y_test))"
   ]
  },
  {
   "cell_type": "code",
   "execution_count": null,
   "metadata": {},
   "outputs": [],
   "source": [
    "predictions"
   ]
  },
  {
   "cell_type": "code",
   "execution_count": null,
   "metadata": {},
   "outputs": [],
   "source": [
    "# Calculate classification report\n",
    "from sklearn.metrics import classification_report\n",
    "print(classification_report(y_test, predictions,\n",
    "                             target_names=[\"1\", \"2\", \"3\"]))"
   ]
  }
 ],
 "metadata": {
  "kernelspec": {
   "display_name": "Python 3",
   "language": "python",
   "name": "python3"
  },
  "language_info": {
   "codemirror_mode": {
    "name": "ipython",
    "version": 3
   },
   "file_extension": ".py",
   "mimetype": "text/x-python",
   "name": "python",
   "nbconvert_exporter": "python",
   "pygments_lexer": "ipython3",
   "version": "3.8.3"
  }
 },
 "nbformat": 4,
 "nbformat_minor": 5
}
