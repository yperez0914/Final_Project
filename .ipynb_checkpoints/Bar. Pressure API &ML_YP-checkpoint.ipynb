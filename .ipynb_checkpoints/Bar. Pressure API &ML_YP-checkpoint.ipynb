{
 "cells": [
  {
   "cell_type": "code",
   "execution_count": 1,
   "metadata": {},
   "outputs": [],
   "source": [
    "import json\n",
    "import requests\n",
    "from config import lw_key\n",
    "import pandas as pd\n",
    "from datetime import date, timedelta, datetime\n"
   ]
  },
  {
   "cell_type": "code",
   "execution_count": 2,
   "metadata": {},
   "outputs": [],
   "source": [
    "url= \"https://api.worldweatheronline.com/premium/v1/weather.ashx?\"\n",
    "past_url = \"https://api.worldweatheronline.com/premium/v1/past-weather.ashx?\"\n",
    "# query_url =f\"{url}appid={api_key}&zip=\""
   ]
  },
  {
   "cell_type": "code",
   "execution_count": 3,
   "metadata": {},
   "outputs": [
    {
     "name": "stdout",
     "output_type": "stream",
     "text": [
      "Enter 5-digit Zipcode:21061\n"
     ]
    }
   ],
   "source": [
    "zipcode = input(\"Enter 5-digit Zipcode:\")"
   ]
  },
  {
   "cell_type": "code",
   "execution_count": 4,
   "metadata": {},
   "outputs": [],
   "source": [
    "# zip_df = nomi.query_postal_code(zipcode)\n"
   ]
  },
  {
   "cell_type": "code",
   "execution_count": 5,
   "metadata": {},
   "outputs": [],
   "source": [
    "# pandas apply pgeocode to ZIPCODE1\n",
    "# md_zips = df['ZIPCODE1'].apply(nomi.query_postal_code)\n",
    "# md_zips.head()"
   ]
  },
  {
   "cell_type": "code",
   "execution_count": 11,
   "metadata": {},
   "outputs": [],
   "source": [
    "response = requests.get(f\"{url}key={lw_key}&q={zipcode}&num_of_days=8&tp=24&cc=no&mca=no&aqi=yes&format=json\").json()\n",
    "response = response['data']\n"
   ]
  },
  {
   "cell_type": "code",
   "execution_count": 12,
   "metadata": {
    "scrolled": false
   },
   "outputs": [
    {
     "data": {
      "text/html": [
       "<div>\n",
       "<style scoped>\n",
       "    .dataframe tbody tr th:only-of-type {\n",
       "        vertical-align: middle;\n",
       "    }\n",
       "\n",
       "    .dataframe tbody tr th {\n",
       "        vertical-align: top;\n",
       "    }\n",
       "\n",
       "    .dataframe thead th {\n",
       "        text-align: right;\n",
       "    }\n",
       "</style>\n",
       "<table border=\"1\" class=\"dataframe\">\n",
       "  <thead>\n",
       "    <tr style=\"text-align: right;\">\n",
       "      <th></th>\n",
       "      <th>Dates</th>\n",
       "      <th>Cloudcover</th>\n",
       "      <th>Humidity</th>\n",
       "      <th>PrecipInch</th>\n",
       "      <th>Pressure</th>\n",
       "      <th>FeelsLike</th>\n",
       "      <th>HeatIndex</th>\n",
       "      <th>MaxTemp</th>\n",
       "      <th>MinTemp</th>\n",
       "      <th>SunHours</th>\n",
       "      <th>UVIndex</th>\n",
       "      <th>TempDelta</th>\n",
       "      <th>BarChange</th>\n",
       "      <th>HeatChange</th>\n",
       "      <th>HumChange</th>\n",
       "    </tr>\n",
       "  </thead>\n",
       "  <tbody>\n",
       "    <tr>\n",
       "      <th>1</th>\n",
       "      <td>2021-04-15</td>\n",
       "      <td>69</td>\n",
       "      <td>70</td>\n",
       "      <td>0.2</td>\n",
       "      <td>1008</td>\n",
       "      <td>52</td>\n",
       "      <td>54</td>\n",
       "      <td>60</td>\n",
       "      <td>47</td>\n",
       "      <td>6.6</td>\n",
       "      <td>4</td>\n",
       "      <td>13</td>\n",
       "      <td>-0.007874</td>\n",
       "      <td>-0.035714</td>\n",
       "      <td>-0.176471</td>\n",
       "    </tr>\n",
       "    <tr>\n",
       "      <th>2</th>\n",
       "      <td>2021-04-16</td>\n",
       "      <td>43</td>\n",
       "      <td>66</td>\n",
       "      <td>0.0</td>\n",
       "      <td>1008</td>\n",
       "      <td>41</td>\n",
       "      <td>47</td>\n",
       "      <td>53</td>\n",
       "      <td>43</td>\n",
       "      <td>9.1</td>\n",
       "      <td>3</td>\n",
       "      <td>10</td>\n",
       "      <td>0.000000</td>\n",
       "      <td>-0.129630</td>\n",
       "      <td>-0.057143</td>\n",
       "    </tr>\n",
       "    <tr>\n",
       "      <th>3</th>\n",
       "      <td>2021-04-17</td>\n",
       "      <td>69</td>\n",
       "      <td>68</td>\n",
       "      <td>0.0</td>\n",
       "      <td>1011</td>\n",
       "      <td>46</td>\n",
       "      <td>49</td>\n",
       "      <td>53</td>\n",
       "      <td>46</td>\n",
       "      <td>6.6</td>\n",
       "      <td>2</td>\n",
       "      <td>7</td>\n",
       "      <td>0.002976</td>\n",
       "      <td>0.042553</td>\n",
       "      <td>0.030303</td>\n",
       "    </tr>\n",
       "    <tr>\n",
       "      <th>4</th>\n",
       "      <td>2021-04-18</td>\n",
       "      <td>60</td>\n",
       "      <td>65</td>\n",
       "      <td>0.0</td>\n",
       "      <td>1012</td>\n",
       "      <td>49</td>\n",
       "      <td>51</td>\n",
       "      <td>57</td>\n",
       "      <td>45</td>\n",
       "      <td>7.9</td>\n",
       "      <td>4</td>\n",
       "      <td>12</td>\n",
       "      <td>0.000989</td>\n",
       "      <td>0.040816</td>\n",
       "      <td>-0.044118</td>\n",
       "    </tr>\n",
       "    <tr>\n",
       "      <th>5</th>\n",
       "      <td>2021-04-19</td>\n",
       "      <td>62</td>\n",
       "      <td>63</td>\n",
       "      <td>0.0</td>\n",
       "      <td>1014</td>\n",
       "      <td>52</td>\n",
       "      <td>53</td>\n",
       "      <td>61</td>\n",
       "      <td>45</td>\n",
       "      <td>7.9</td>\n",
       "      <td>1</td>\n",
       "      <td>16</td>\n",
       "      <td>0.001976</td>\n",
       "      <td>0.039216</td>\n",
       "      <td>-0.030769</td>\n",
       "    </tr>\n",
       "    <tr>\n",
       "      <th>6</th>\n",
       "      <td>2021-04-20</td>\n",
       "      <td>15</td>\n",
       "      <td>54</td>\n",
       "      <td>0.0</td>\n",
       "      <td>1014</td>\n",
       "      <td>58</td>\n",
       "      <td>59</td>\n",
       "      <td>69</td>\n",
       "      <td>48</td>\n",
       "      <td>11.6</td>\n",
       "      <td>5</td>\n",
       "      <td>21</td>\n",
       "      <td>0.000000</td>\n",
       "      <td>0.113208</td>\n",
       "      <td>-0.142857</td>\n",
       "    </tr>\n",
       "    <tr>\n",
       "      <th>7</th>\n",
       "      <td>2021-04-21</td>\n",
       "      <td>57</td>\n",
       "      <td>66</td>\n",
       "      <td>0.0</td>\n",
       "      <td>1016</td>\n",
       "      <td>49</td>\n",
       "      <td>51</td>\n",
       "      <td>54</td>\n",
       "      <td>47</td>\n",
       "      <td>7.9</td>\n",
       "      <td>3</td>\n",
       "      <td>7</td>\n",
       "      <td>0.001972</td>\n",
       "      <td>-0.135593</td>\n",
       "      <td>0.222222</td>\n",
       "    </tr>\n",
       "  </tbody>\n",
       "</table>\n",
       "</div>"
      ],
      "text/plain": [
       "        Dates  Cloudcover  Humidity  PrecipInch  Pressure  FeelsLike  \\\n",
       "1  2021-04-15          69        70         0.2      1008         52   \n",
       "2  2021-04-16          43        66         0.0      1008         41   \n",
       "3  2021-04-17          69        68         0.0      1011         46   \n",
       "4  2021-04-18          60        65         0.0      1012         49   \n",
       "5  2021-04-19          62        63         0.0      1014         52   \n",
       "6  2021-04-20          15        54         0.0      1014         58   \n",
       "7  2021-04-21          57        66         0.0      1016         49   \n",
       "\n",
       "   HeatIndex  MaxTemp  MinTemp  SunHours  UVIndex  TempDelta  BarChange  \\\n",
       "1         54       60       47       6.6        4         13  -0.007874   \n",
       "2         47       53       43       9.1        3         10   0.000000   \n",
       "3         49       53       46       6.6        2          7   0.002976   \n",
       "4         51       57       45       7.9        4         12   0.000989   \n",
       "5         53       61       45       7.9        1         16   0.001976   \n",
       "6         59       69       48      11.6        5         21   0.000000   \n",
       "7         51       54       47       7.9        3          7   0.001972   \n",
       "\n",
       "   HeatChange  HumChange  \n",
       "1   -0.035714  -0.176471  \n",
       "2   -0.129630  -0.057143  \n",
       "3    0.042553   0.030303  \n",
       "4    0.040816  -0.044118  \n",
       "5    0.039216  -0.030769  \n",
       "6    0.113208  -0.142857  \n",
       "7   -0.135593   0.222222  "
      ]
     },
     "execution_count": 12,
     "metadata": {},
     "output_type": "execute_result"
    }
   ],
   "source": [
    "weather_dict ={\n",
    "    \"Dates\":[],\n",
    "    \"Cloudcover\":[],\n",
    "    \"Humidity\":[],\n",
    "    \"PrecipInch\":[],\n",
    "    \"Pressure\":[],\n",
    "    \"FeelsLike\":[],\n",
    "    \"HeatIndex\":[],\n",
    "    \"MaxTemp\":[],\n",
    "    \"MinTemp\":[],\n",
    "    \"SunHours\":[],\n",
    "    \"UVIndex\":[],\n",
    "}\n",
    "\n",
    "weather_dict[\"Dates\"]= ([response[\"weather\"][i][\"date\"] for i in range(len(response[\"weather\"]))])\n",
    "weather_dict[\"Cloudcover\"]=([response[\"weather\"][i][\"hourly\"][0][\"cloudcover\"] for i in range(len(response[\"weather\"]))])\n",
    "weather_dict[\"Humidity\"]= ([response[\"weather\"][i][\"hourly\"][0][\"humidity\"] for i in range(len(response[\"weather\"]))])\n",
    "weather_dict[\"PrecipInch\"]= ([response[\"weather\"][i][\"hourly\"][0][\"precipInches\"] for i in range(len(response[\"weather\"]))])\n",
    "weather_dict[\"Pressure\"]= ([response[\"weather\"][i][\"hourly\"][0][\"pressure\"] for i in range(len(response[\"weather\"]))])\n",
    "weather_dict[\"FeelsLike\"]= ([response[\"weather\"][i][\"hourly\"][0][\"FeelsLikeF\"] for i in range(len(response[\"weather\"]))])\n",
    "weather_dict[\"HeatIndex\"]= ([response[\"weather\"][i][\"hourly\"][0][\"HeatIndexF\"] for i in range(len(response[\"weather\"]))])\n",
    "weather_dict[\"MaxTemp\"]= ([response[\"weather\"][i][\"maxtempF\"] for i in range(len(response[\"weather\"]))])\n",
    "weather_dict[\"MinTemp\"]=([response[\"weather\"][i][\"mintempF\"] for i in range(len(response[\"weather\"]))])\n",
    "weather_dict[\"SunHours\"]=([response[\"weather\"][i][\"sunHour\"] for i in range(len(response[\"weather\"]))])\n",
    "weather_dict[\"UVIndex\"]= ([response[\"weather\"][i][\"hourly\"][0][\"uvIndex\"] for i in range(len(response[\"weather\"]))])\n",
    "weather_df= pd.DataFrame.from_dict(weather_dict,orient='index').transpose()\n",
    "weather_df= weather_df.apply(pd.to_numeric, errors= 'ignore')\n",
    "weather_df[\"TempDelta\"] = weather_df.MaxTemp - weather_df.MinTemp\n",
    "weather_df[\"BarChange\"] =weather_df[\"Pressure\"].pct_change()\n",
    "weather_df[\"HeatChange\"] =weather_df[\"HeatIndex\"].pct_change()\n",
    "weather_df[\"HumChange\"] =weather_df[\"Humidity\"].pct_change()\n",
    "weather_df= weather_df.iloc[1:]\n",
    "weather_df.head(10)\n"
   ]
  },
  {
   "cell_type": "code",
   "execution_count": 13,
   "metadata": {},
   "outputs": [
    {
     "data": {
      "text/plain": [
       "['1', '1', '1', '1', '1', '1', '1']"
      ]
     },
     "execution_count": 13,
     "metadata": {},
     "output_type": "execute_result"
    }
   ],
   "source": [
    "risk_data= []\n",
    "for i in weather_df[\"BarChange\"]:\n",
    "    if i <=5:\n",
    "       risk_data.append(\"1\")\n",
    "    elif i>5 & i<8:\n",
    "        risk_data.append(\"2\")\n",
    "    else: \n",
    "        risk_data.append(\"3\")\n",
    "risk_data          \n",
    "            "
   ]
  },
  {
   "cell_type": "code",
   "execution_count": 14,
   "metadata": {
    "scrolled": true
   },
   "outputs": [
    {
     "data": {
      "text/html": [
       "<div>\n",
       "<style scoped>\n",
       "    .dataframe tbody tr th:only-of-type {\n",
       "        vertical-align: middle;\n",
       "    }\n",
       "\n",
       "    .dataframe tbody tr th {\n",
       "        vertical-align: top;\n",
       "    }\n",
       "\n",
       "    .dataframe thead th {\n",
       "        text-align: right;\n",
       "    }\n",
       "</style>\n",
       "<table border=\"1\" class=\"dataframe\">\n",
       "  <thead>\n",
       "    <tr style=\"text-align: right;\">\n",
       "      <th></th>\n",
       "      <th>Dates</th>\n",
       "      <th>Cloudcover</th>\n",
       "      <th>Humidity</th>\n",
       "      <th>PrecipInch</th>\n",
       "      <th>Pressure</th>\n",
       "      <th>FeelsLike</th>\n",
       "      <th>HeatIndex</th>\n",
       "      <th>MaxTemp</th>\n",
       "      <th>MinTemp</th>\n",
       "      <th>SunHours</th>\n",
       "      <th>UVIndex</th>\n",
       "      <th>TempDelta</th>\n",
       "      <th>BarChange</th>\n",
       "      <th>HeatChange</th>\n",
       "      <th>HumChange</th>\n",
       "      <th>MigraineRisk</th>\n",
       "    </tr>\n",
       "  </thead>\n",
       "  <tbody>\n",
       "    <tr>\n",
       "      <th>1</th>\n",
       "      <td>2021-04-15</td>\n",
       "      <td>69</td>\n",
       "      <td>70</td>\n",
       "      <td>0.2</td>\n",
       "      <td>1008</td>\n",
       "      <td>52</td>\n",
       "      <td>54</td>\n",
       "      <td>60</td>\n",
       "      <td>47</td>\n",
       "      <td>6.6</td>\n",
       "      <td>4</td>\n",
       "      <td>13</td>\n",
       "      <td>-0.007874</td>\n",
       "      <td>-0.035714</td>\n",
       "      <td>-0.176471</td>\n",
       "      <td>1</td>\n",
       "    </tr>\n",
       "    <tr>\n",
       "      <th>2</th>\n",
       "      <td>2021-04-16</td>\n",
       "      <td>43</td>\n",
       "      <td>66</td>\n",
       "      <td>0.0</td>\n",
       "      <td>1008</td>\n",
       "      <td>41</td>\n",
       "      <td>47</td>\n",
       "      <td>53</td>\n",
       "      <td>43</td>\n",
       "      <td>9.1</td>\n",
       "      <td>3</td>\n",
       "      <td>10</td>\n",
       "      <td>0.000000</td>\n",
       "      <td>-0.129630</td>\n",
       "      <td>-0.057143</td>\n",
       "      <td>1</td>\n",
       "    </tr>\n",
       "    <tr>\n",
       "      <th>3</th>\n",
       "      <td>2021-04-17</td>\n",
       "      <td>69</td>\n",
       "      <td>68</td>\n",
       "      <td>0.0</td>\n",
       "      <td>1011</td>\n",
       "      <td>46</td>\n",
       "      <td>49</td>\n",
       "      <td>53</td>\n",
       "      <td>46</td>\n",
       "      <td>6.6</td>\n",
       "      <td>2</td>\n",
       "      <td>7</td>\n",
       "      <td>0.002976</td>\n",
       "      <td>0.042553</td>\n",
       "      <td>0.030303</td>\n",
       "      <td>1</td>\n",
       "    </tr>\n",
       "    <tr>\n",
       "      <th>4</th>\n",
       "      <td>2021-04-18</td>\n",
       "      <td>60</td>\n",
       "      <td>65</td>\n",
       "      <td>0.0</td>\n",
       "      <td>1012</td>\n",
       "      <td>49</td>\n",
       "      <td>51</td>\n",
       "      <td>57</td>\n",
       "      <td>45</td>\n",
       "      <td>7.9</td>\n",
       "      <td>4</td>\n",
       "      <td>12</td>\n",
       "      <td>0.000989</td>\n",
       "      <td>0.040816</td>\n",
       "      <td>-0.044118</td>\n",
       "      <td>1</td>\n",
       "    </tr>\n",
       "    <tr>\n",
       "      <th>5</th>\n",
       "      <td>2021-04-19</td>\n",
       "      <td>62</td>\n",
       "      <td>63</td>\n",
       "      <td>0.0</td>\n",
       "      <td>1014</td>\n",
       "      <td>52</td>\n",
       "      <td>53</td>\n",
       "      <td>61</td>\n",
       "      <td>45</td>\n",
       "      <td>7.9</td>\n",
       "      <td>1</td>\n",
       "      <td>16</td>\n",
       "      <td>0.001976</td>\n",
       "      <td>0.039216</td>\n",
       "      <td>-0.030769</td>\n",
       "      <td>1</td>\n",
       "    </tr>\n",
       "    <tr>\n",
       "      <th>6</th>\n",
       "      <td>2021-04-20</td>\n",
       "      <td>15</td>\n",
       "      <td>54</td>\n",
       "      <td>0.0</td>\n",
       "      <td>1014</td>\n",
       "      <td>58</td>\n",
       "      <td>59</td>\n",
       "      <td>69</td>\n",
       "      <td>48</td>\n",
       "      <td>11.6</td>\n",
       "      <td>5</td>\n",
       "      <td>21</td>\n",
       "      <td>0.000000</td>\n",
       "      <td>0.113208</td>\n",
       "      <td>-0.142857</td>\n",
       "      <td>1</td>\n",
       "    </tr>\n",
       "    <tr>\n",
       "      <th>7</th>\n",
       "      <td>2021-04-21</td>\n",
       "      <td>57</td>\n",
       "      <td>66</td>\n",
       "      <td>0.0</td>\n",
       "      <td>1016</td>\n",
       "      <td>49</td>\n",
       "      <td>51</td>\n",
       "      <td>54</td>\n",
       "      <td>47</td>\n",
       "      <td>7.9</td>\n",
       "      <td>3</td>\n",
       "      <td>7</td>\n",
       "      <td>0.001972</td>\n",
       "      <td>-0.135593</td>\n",
       "      <td>0.222222</td>\n",
       "      <td>1</td>\n",
       "    </tr>\n",
       "  </tbody>\n",
       "</table>\n",
       "</div>"
      ],
      "text/plain": [
       "        Dates  Cloudcover  Humidity  PrecipInch  Pressure  FeelsLike  \\\n",
       "1  2021-04-15          69        70         0.2      1008         52   \n",
       "2  2021-04-16          43        66         0.0      1008         41   \n",
       "3  2021-04-17          69        68         0.0      1011         46   \n",
       "4  2021-04-18          60        65         0.0      1012         49   \n",
       "5  2021-04-19          62        63         0.0      1014         52   \n",
       "6  2021-04-20          15        54         0.0      1014         58   \n",
       "7  2021-04-21          57        66         0.0      1016         49   \n",
       "\n",
       "   HeatIndex  MaxTemp  MinTemp  SunHours  UVIndex  TempDelta  BarChange  \\\n",
       "1         54       60       47       6.6        4         13  -0.007874   \n",
       "2         47       53       43       9.1        3         10   0.000000   \n",
       "3         49       53       46       6.6        2          7   0.002976   \n",
       "4         51       57       45       7.9        4         12   0.000989   \n",
       "5         53       61       45       7.9        1         16   0.001976   \n",
       "6         59       69       48      11.6        5         21   0.000000   \n",
       "7         51       54       47       7.9        3          7   0.001972   \n",
       "\n",
       "   HeatChange  HumChange MigraineRisk  \n",
       "1   -0.035714  -0.176471            1  \n",
       "2   -0.129630  -0.057143            1  \n",
       "3    0.042553   0.030303            1  \n",
       "4    0.040816  -0.044118            1  \n",
       "5    0.039216  -0.030769            1  \n",
       "6    0.113208  -0.142857            1  \n",
       "7   -0.135593   0.222222            1  "
      ]
     },
     "execution_count": 14,
     "metadata": {},
     "output_type": "execute_result"
    }
   ],
   "source": [
    "weather_df[\"MigraineRisk\"] = risk_data\n",
    "weather_df"
   ]
  },
  {
   "cell_type": "code",
   "execution_count": 10,
   "metadata": {
    "scrolled": true
   },
   "outputs": [
    {
     "ename": "NameError",
     "evalue": "name 'yeni' is not defined",
     "output_type": "error",
     "traceback": [
      "\u001b[1;31m---------------------------------------------------------------------------\u001b[0m",
      "\u001b[1;31mNameError\u001b[0m                                 Traceback (most recent call last)",
      "\u001b[1;32m<ipython-input-10-0143cbf9c9b9>\u001b[0m in \u001b[0;36m<module>\u001b[1;34m\u001b[0m\n\u001b[1;32m----> 1\u001b[1;33m \u001b[0myeni\u001b[0m\u001b[1;33m\u001b[0m\u001b[1;33m\u001b[0m\u001b[0m\n\u001b[0m",
      "\u001b[1;31mNameError\u001b[0m: name 'yeni' is not defined"
     ]
    }
   ],
   "source": []
  },
  {
   "cell_type": "code",
   "execution_count": null,
   "metadata": {},
   "outputs": [],
   "source": []
  },
  {
   "cell_type": "code",
   "execution_count": null,
   "metadata": {},
   "outputs": [],
   "source": [
    "# Assign X (data) and y (target)\n",
    "X = df.drop(\"BarChange\", axis=1)\n",
    "y = df[\"BarChange\"]\n",
    "print(X.shape, y.shape)"
   ]
  },
  {
   "cell_type": "code",
   "execution_count": null,
   "metadata": {},
   "outputs": [],
   "source": [
    "#Split our data into training and testing\n",
    "X_train, X_test, y_train, y_test = train_test_split(X, y, random_state=42)"
   ]
  },
  {
   "cell_type": "code",
   "execution_count": null,
   "metadata": {},
   "outputs": [],
   "source": [
    "#Fit on the training data\n",
    "X_scaler = MinMaxScaler().fit(X_train)\n",
    "X_scaler.get_params()"
   ]
  },
  {
   "cell_type": "code",
   "execution_count": null,
   "metadata": {},
   "outputs": [],
   "source": [
    "X_train_scaled = X_scaler.transform(X_train)\n",
    "X_test_scaled = X_scaler.transform(X_test)\n",
    "X_test_scaled"
   ]
  },
  {
   "cell_type": "code",
   "execution_count": null,
   "metadata": {},
   "outputs": [],
   "source": [
    "y_train.value_counts()"
   ]
  },
  {
   "cell_type": "code",
   "execution_count": null,
   "metadata": {},
   "outputs": [],
   "source": [
    "y_test.value_counts()"
   ]
  },
  {
   "cell_type": "code",
   "execution_count": null,
   "metadata": {},
   "outputs": [],
   "source": [
    "model = SVC(kernel=\"linear\")\n",
    "model"
   ]
  },
  {
   "cell_type": "markdown",
   "metadata": {},
   "source": [
    "# w/o grid search"
   ]
  },
  {
   "cell_type": "code",
   "execution_count": null,
   "metadata": {},
   "outputs": [],
   "source": [
    "model.fit(X_train, y_train)"
   ]
  },
  {
   "cell_type": "code",
   "execution_count": null,
   "metadata": {},
   "outputs": [],
   "source": [
    "print('Test Acc: %.3f' % model.score(X_test, y_test))"
   ]
  },
  {
   "cell_type": "code",
   "execution_count": null,
   "metadata": {},
   "outputs": [],
   "source": [
    "# Calculate classification report\n",
    "from sklearn.metrics import classification_report\n",
    "predictions = model.predict(X_test)\n",
    "print(classification_report(y_test, predictions,\n",
    "                            target_names=[\"1\",\"2\",\"3\"]))"
   ]
  },
  {
   "cell_type": "code",
   "execution_count": null,
   "metadata": {},
   "outputs": [],
   "source": [
    "print('Test Acc: %.3f' % model.score(X_test, y_test))"
   ]
  },
  {
   "cell_type": "code",
   "execution_count": null,
   "metadata": {},
   "outputs": [],
   "source": [
    "# Calculate classification report\n",
    "from sklearn.metrics import classification_report\n",
    "predictions = model.predict(X_test)\n",
    "print(classification_report(y_test, predictions,\n",
    "                            target_names=[\"1\", \"2\", \"3\"]))"
   ]
  },
  {
   "cell_type": "markdown",
   "metadata": {},
   "source": [
    "# Grid Search "
   ]
  },
  {
   "cell_type": "code",
   "execution_count": null,
   "metadata": {},
   "outputs": [],
   "source": [
    "# Create the GridSearch estimator along with a parameter object containing the values to adjust\n",
    "param_grid = {'C': [1, 5, 10, 50],\n",
    "              'gamma': [0.0001, 0.0005, 0.001, 0.005]}\n",
    "grid = GridSearchCV(model, param_grid, verbose=3)"
   ]
  },
  {
   "cell_type": "code",
   "execution_count": null,
   "metadata": {},
   "outputs": [],
   "source": [
    "# Fit the model using the grid search estimator. \n",
    "# This will take the SVC model and try each combination of parameters\n",
    "grid.fit(X_train_scaled, y_train)"
   ]
  },
  {
   "cell_type": "code",
   "execution_count": null,
   "metadata": {},
   "outputs": [],
   "source": [
    "# List the best parameters for this dataset\n",
    "print(grid.best_params_)"
   ]
  },
  {
   "cell_type": "code",
   "execution_count": null,
   "metadata": {},
   "outputs": [],
   "source": [
    "# List the best score\n",
    "print(grid.best_score_)"
   ]
  },
  {
   "cell_type": "code",
   "execution_count": null,
   "metadata": {},
   "outputs": [],
   "source": [
    "# Make predictions with the hypertuned model\n",
    "predictions = grid.predict(X_test)"
   ]
  },
  {
   "cell_type": "code",
   "execution_count": null,
   "metadata": {},
   "outputs": [],
   "source": [
    "print('Test Acc: %.3f' % grid.score(X_test, y_test))"
   ]
  },
  {
   "cell_type": "code",
   "execution_count": null,
   "metadata": {},
   "outputs": [],
   "source": [
    "predictions"
   ]
  },
  {
   "cell_type": "code",
   "execution_count": null,
   "metadata": {},
   "outputs": [],
   "source": [
    "# Calculate classification report\n",
    "from sklearn.metrics import classification_report\n",
    "print(classification_report(y_test, predictions,\n",
    "                             target_names=[\"1\", \"2\", \"3\"]))"
   ]
  },
  {
   "cell_type": "code",
   "execution_count": null,
   "metadata": {},
   "outputs": [],
   "source": []
  },
  {
   "cell_type": "code",
   "execution_count": null,
   "metadata": {},
   "outputs": [],
   "source": [
    "dates= input(\"Dates you had a migraine (YYYY-MM-DD):\")\n"
   ]
  },
  {
   "cell_type": "code",
   "execution_count": null,
   "metadata": {},
   "outputs": [],
   "source": [
    "dates=dates.split(\",\")\n",
    "dates"
   ]
  },
  {
   "cell_type": "code",
   "execution_count": null,
   "metadata": {},
   "outputs": [],
   "source": [
    "datess=[(datetime.strptime(i) - timedelta(1)) for i in dates]\n"
   ]
  },
  {
   "cell_type": "code",
   "execution_count": null,
   "metadata": {},
   "outputs": [],
   "source": [
    "for date in dates:\n",
    "    responses = requests.get(f\"{past_url}key={lw_key}&q={zipcode}&date={date}&tp=24&mca=no&aqi=yes&format=json\").json()\n",
    "    print(json.dumps(responses, indent=4, sort_keys=True))"
   ]
  },
  {
   "cell_type": "code",
   "execution_count": null,
   "metadata": {},
   "outputs": [],
   "source": [
    "# weather_df[[f\"{date.today()}\", f\"{date.today()+timedelta(1)}\", f\"{date.today()+timedelta(2)}\", f\"{date.today()+timedelta(3)}\", f\"{date.today()+timedelta(4)}\", f\"{date.today()+timedelta(5)}\", f\"{date.today()+timedelta(6)}\", f\"{date.today()+timedelta(7)}\"]]= pd.DataFrame(weather_df.Pressure.to_list(), index = weather_df.index)\n",
    "# forecast = weather_df.drop(columns= [\"Dates\",\"Pressure\"])\n",
    "# columns = [\"Date 1\", \"Date 2\", \"Date 3\", \"Date 4\", \"Date 5\", \"Date 6\", \"Date 7\", \"Date 8\"], index = weather_df.index\n",
    "# rural_cats = rural_cat[[\"Category 1\", \"Category 2\", \"Category 3\"]]\n",
    "# rural_clean = rural.merge(rural_cats, left_index = True,right_index = True)\n",
    "# forecast.head()"
   ]
  },
  {
   "cell_type": "code",
   "execution_count": null,
   "metadata": {},
   "outputs": [],
   "source": []
  },
  {
   "cell_type": "code",
   "execution_count": null,
   "metadata": {},
   "outputs": [],
   "source": []
  }
 ],
 "metadata": {
  "kernelspec": {
   "display_name": "Python 3",
   "language": "python",
   "name": "python3"
  },
  "language_info": {
   "codemirror_mode": {
    "name": "ipython",
    "version": 3
   },
   "file_extension": ".py",
   "mimetype": "text/x-python",
   "name": "python",
   "nbconvert_exporter": "python",
   "pygments_lexer": "ipython3",
   "version": "3.8.3"
  }
 },
 "nbformat": 4,
 "nbformat_minor": 5
}
